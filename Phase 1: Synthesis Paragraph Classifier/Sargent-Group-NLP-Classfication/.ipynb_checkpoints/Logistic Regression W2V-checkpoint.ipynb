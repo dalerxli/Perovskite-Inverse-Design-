{
 "cells": [
  {
   "cell_type": "code",
   "execution_count": 1,
   "metadata": {},
   "outputs": [],
   "source": [
    "import numpy as np\n",
    "import gensim\n",
    "import PySimpleGUI as sg\n",
    "import pickle\n",
    "import os\n",
    "from sklearn.linear_model import LogisticRegression\n",
    "from sklearn.model_selection import GridSearchCV\n",
    "import matplotlib.pyplot as plt\n",
    "from sklearn.metrics import confusion_matrix, f1_score\n",
    "from sklearn.utils import resample\n",
    "import pandas as pd"
   ]
  },
  {
   "cell_type": "code",
   "execution_count": 2,
   "metadata": {},
   "outputs": [],
   "source": [
    "with open('total_data.pkl','rb') as f:\n",
    "    total_data = pickle.load(f)"
   ]
  },
  {
   "cell_type": "code",
   "execution_count": 3,
   "metadata": {},
   "outputs": [
    {
     "ename": "SyntaxError",
     "evalue": "invalid syntax (<ipython-input-3-1721ca48a576>, line 1)",
     "output_type": "error",
     "traceback": [
      "\u001b[0;36m  File \u001b[0;32m\"<ipython-input-3-1721ca48a576>\"\u001b[0;36m, line \u001b[0;32m1\u001b[0m\n\u001b[0;31m    def doc2vec(list lst):\u001b[0m\n\u001b[0m                       ^\u001b[0m\n\u001b[0;31mSyntaxError\u001b[0m\u001b[0;31m:\u001b[0m invalid syntax\n"
     ]
    }
   ],
   "source": [
    "def doc2vec(list lst):\n",
    "    new = 0\n",
    "    count = 0\n",
    "    for word in lst:\n",
    "        new += model.wv(word)\n",
    "        count += 1\n",
    "    return new/count\n",
    "    "
   ]
  },
  {
   "cell_type": "code",
   "execution_count": null,
   "metadata": {},
   "outputs": [],
   "source": [
    "list_x = []\n",
    "list_y = []\n",
    "dataset = []\n",
    "for key in total_data.keys():\n",
    "    # fitting paper into tfidf vector\n",
    "    for paragraph in total_data[key]:\n",
    "        if paragraph[-1] == 1:\n",
    "            dataset.append(doc2vec(paragraph[0].split()))\n",
    "            if paragraph[-2] is False:\n",
    "                list_y.append(0)\n",
    "            else:\n",
    "                list_y.append(1)"
   ]
  },
  {
   "cell_type": "code",
   "execution_count": null,
   "metadata": {},
   "outputs": [],
   "source": [
    "y_train = np.asarray(list_y)\n",
    "len_train = int(len(y_train)*0.9)\n",
    "X, X_test = arr[:len_train], arr[len_train:]\n",
    "y, Y_test = y_train[:len_train], y_train[len_train:]\n",
    "print(X.shape)\n",
    "print(y.shape)"
   ]
  },
  {
   "cell_type": "code",
   "execution_count": null,
   "metadata": {},
   "outputs": [],
   "source": [
    "def over_sampler(X,y):\n",
    "    count = np.sum(y)\n",
    "    idxx = np.argwhere(y==1)[:,0]\n",
    "    new_idxx = np.random.choice(idxx, np.sum(y==0)- np.sum(y))\n",
    "    X_0 = np.concatenate([X, X[new_idxx]],axis=0)\n",
    "    y_0 = np.concatenate([y, y[new_idxx]])\n",
    "    return X_0, y_0"
   ]
  },
  {
   "cell_type": "code",
   "execution_count": null,
   "metadata": {},
   "outputs": [],
   "source": [
    "X_train, Y_train = over_sampler(X, y)\n",
    "print(X_train.shape)\n",
    "print(Y_train.shape)"
   ]
  },
  {
   "cell_type": "code",
   "execution_count": null,
   "metadata": {},
   "outputs": [],
   "source": [
    "model = LogisticRegression()\n",
    "model.fit(X_train, Y_train)"
   ]
  },
  {
   "cell_type": "code",
   "execution_count": null,
   "metadata": {},
   "outputs": [],
   "source": [
    "y_pred = model.predict(X_train)\n",
    "print(f1_score(Y_train, y_pred))\n",
    "cm = confusion_matrix(Y_train, y_pred)\n",
    "print(cm)\n",
    "plt.matshow(cm)\n",
    "plt.title('Confusion matrix')\n",
    "plt.colorbar()\n",
    "plt.ylabel('True label')\n",
    "plt.xlabel('Predicted label')\n",
    "plt.show()"
   ]
  },
  {
   "cell_type": "code",
   "execution_count": null,
   "metadata": {},
   "outputs": [],
   "source": [
    "Y_pred = model.predict(X_test)\n",
    "print(f1_score(Y_test, Y_pred))\n",
    "cm = confusion_matrix(Y_test, Y_pred)\n",
    "print(cm)\n",
    "plt.matshow(cm)\n",
    "plt.title('Confusion matrix')\n",
    "plt.colorbar()\n",
    "plt.ylabel('True label')\n",
    "plt.xlabel('Predicted label')\n",
    "plt.show()"
   ]
  }
 ],
 "metadata": {
  "kernelspec": {
   "display_name": "Python 2",
   "language": "python",
   "name": "python2"
  },
  "language_info": {
   "codemirror_mode": {
    "name": "ipython",
    "version": 3
   },
   "file_extension": ".py",
   "mimetype": "text/x-python",
   "name": "python",
   "nbconvert_exporter": "python",
   "pygments_lexer": "ipython3",
   "version": "3.6.9"
  }
 },
 "nbformat": 4,
 "nbformat_minor": 4
}
