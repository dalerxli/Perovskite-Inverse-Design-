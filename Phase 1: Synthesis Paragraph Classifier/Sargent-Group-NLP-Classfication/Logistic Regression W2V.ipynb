{
 "cells": [
  {
   "cell_type": "markdown",
   "metadata": {},
   "source": [
    "# Classification of Synthesis Parameters using word2vec\n",
    "Approach: Get \n",
    "### Current problem and solution: \n",
    "KeyError Words not in library: pass the word\n"
   ]
  },
  {
   "cell_type": "code",
   "execution_count": 44,
   "metadata": {},
   "outputs": [],
   "source": [
    "import numpy as np\n",
    "from gensim.models import Word2Vec\n",
    "import pickle\n",
    "import os\n",
    "from sklearn.linear_model import LogisticRegression\n",
    "from sklearn.model_selection import GridSearchCV\n",
    "import matplotlib.pyplot as plt\n",
    "from sklearn.metrics import confusion_matrix, f1_score\n",
    "import pandas as pd"
   ]
  },
  {
   "cell_type": "code",
   "execution_count": 45,
   "metadata": {},
   "outputs": [],
   "source": [
    "model = Word2Vec.load(\"./materials-word-embeddings/bin/word2vec_embeddings-SNAPSHOT.model\")\n",
    "model.hs = 1\n",
    "model.negative = 0"
   ]
  },
  {
   "cell_type": "code",
   "execution_count": 46,
   "metadata": {},
   "outputs": [],
   "source": [
    "with open('total_data.pkl','rb') as f:\n",
    "    total_data = pickle.load(f)"
   ]
  },
  {
   "cell_type": "code",
   "execution_count": 54,
   "metadata": {},
   "outputs": [],
   "source": [
    "new_model = model.wv"
   ]
  },
  {
   "cell_type": "code",
   "execution_count": 73,
   "metadata": {},
   "outputs": [
    {
     "data": {
      "text/plain": [
       "array([-0.09899443, -0.69176954,  2.7407694 , -0.47118157,  1.9888113 ,\n",
       "       -2.8515708 , -0.7850326 ,  0.89515847, -3.3176289 , -2.1286538 ,\n",
       "        1.1970509 ,  2.239879  , -0.40494677,  0.8729254 , -4.5715427 ,\n",
       "        0.1306337 , -1.3941231 ,  0.8411274 ,  0.38635984,  1.46162   ,\n",
       "       -0.6656054 , -3.4792304 , -1.1453779 , -0.9220483 ,  2.2963088 ,\n",
       "        4.9410505 ,  2.756439  ,  2.0915952 ,  3.2482626 , -0.4653382 ,\n",
       "        1.4816147 ,  0.73095226, -1.0378739 ,  2.9197655 , -2.2549117 ,\n",
       "       -0.0509843 ,  0.7562244 ,  1.9310673 , -0.993877  ,  1.0662283 ,\n",
       "       -2.0501587 ,  1.4537895 , -1.2397408 ,  2.6312962 , -0.99117583,\n",
       "       -0.9104796 ,  1.3159024 , -1.1498686 ,  0.9318686 , -0.33168626,\n",
       "        1.7543606 , -0.43195266,  0.2087876 ,  0.7875881 ,  1.6752002 ,\n",
       "        0.8053091 ,  0.7690944 ,  1.8695495 ,  1.7305486 ,  0.35823444,\n",
       "        1.4469795 ,  1.8080853 ,  2.7777166 , -0.8551236 ,  3.1913948 ,\n",
       "       -4.2761    ,  1.7733904 , -5.2123733 ,  3.0905735 , -0.52003545,\n",
       "        1.7110145 , -2.429697  , -1.3089849 ,  0.56595016,  0.6369884 ,\n",
       "       -2.1121423 , -2.6633883 ,  1.0406113 ,  0.150058  ,  1.7948525 ,\n",
       "       -2.453683  ,  1.465966  , -1.862475  ,  1.3062689 , -2.7786422 ,\n",
       "        1.3335075 , -1.0359484 ,  0.12304806,  1.3779602 , -0.6306594 ,\n",
       "       -0.39707908, -0.01779343, -2.6797817 ,  1.7701408 ,  0.21227479,\n",
       "        1.79194   , -1.2186714 , -2.1007612 , -1.6692071 , -2.7146485 ],\n",
       "      dtype=float32)"
      ]
     },
     "execution_count": 73,
     "metadata": {},
     "output_type": "execute_result"
    }
   ],
   "source": [
    "new_model.word_vec(\"QDs\")"
   ]
  },
  {
   "cell_type": "code",
   "execution_count": 67,
   "metadata": {},
   "outputs": [],
   "source": [
    "def doc2vec(list_):\n",
    "    # get average vector for a paragraph\n",
    "    new = np.zeros((100,))\n",
    "    count = 0\n",
    "    for word in list_:\n",
    "        try:\n",
    "            new = np.add(new,new_model.word_vec(word))\n",
    "            count += 1\n",
    "        except:\n",
    "            continue\n",
    "    return new/count"
   ]
  },
  {
   "cell_type": "code",
   "execution_count": 84,
   "metadata": {},
   "outputs": [
    {
     "name": "stderr",
     "output_type": "stream",
     "text": [
      "/home/duc/.local/lib/python3.6/site-packages/ipykernel_launcher.py:11: RuntimeWarning: invalid value encountered in true_divide\n",
      "  # This is added back by InteractiveShellApp.init_path()\n"
     ]
    }
   ],
   "source": [
    "list_x = []\n",
    "list_y = []\n",
    "dataset = []\n",
    "for key in total_data.keys():\n",
    "    # fitting paper into tfidf vector\n",
    "    for paragraph in total_data[key]:\n",
    "        if paragraph[-1] == 1:\n",
    "            dataset.append(doc2vec(paragraph[0].split()))\n",
    "            if paragraph[-2] is False:\n",
    "                list_y.append(0)\n",
    "            else:\n",
    "                list_y.append(1)"
   ]
  },
  {
   "cell_type": "code",
   "execution_count": 85,
   "metadata": {},
   "outputs": [
    {
     "name": "stdout",
     "output_type": "stream",
     "text": [
      "(2731, 100)\n",
      "(2731,)\n"
     ]
    }
   ],
   "source": [
    "arr = np.asarray(dataset)\n",
    "y_train = np.asarray(list_y)\n",
    "len_train = int(len(y_train)*0.9)\n",
    "X, X_test = arr[:len_train], arr[len_train:]\n",
    "y, Y_test = y_train[:len_train], y_train[len_train:]\n",
    "print(X.shape)\n",
    "print(y.shape)"
   ]
  },
  {
   "cell_type": "code",
   "execution_count": 99,
   "metadata": {},
   "outputs": [],
   "source": [
    "#replace Nan with 0 and inf with finite\n",
    "X = np.nan_to_num(X)"
   ]
  },
  {
   "cell_type": "code",
   "execution_count": 100,
   "metadata": {},
   "outputs": [],
   "source": [
    "def over_sampler(X,y):\n",
    "    count = np.sum(y)\n",
    "    idxx = np.argwhere(y==1)[:,0]\n",
    "    new_idxx = np.random.choice(idxx, np.sum(y==0)- np.sum(y))\n",
    "    X_0 = np.concatenate([X, X[new_idxx]],axis=0)\n",
    "    y_0 = np.concatenate([y, y[new_idxx]])\n",
    "    return X_0, y_0"
   ]
  },
  {
   "cell_type": "code",
   "execution_count": 101,
   "metadata": {},
   "outputs": [
    {
     "name": "stdout",
     "output_type": "stream",
     "text": [
      "(4862, 100)\n",
      "(4862,)\n"
     ]
    }
   ],
   "source": [
    "X_train, Y_train = over_sampler(X, y)\n",
    "print(X_train.shape)\n",
    "print(Y_train.shape)"
   ]
  },
  {
   "cell_type": "code",
   "execution_count": 102,
   "metadata": {},
   "outputs": [
    {
     "name": "stderr",
     "output_type": "stream",
     "text": [
      "/home/duc/.local/lib/python3.6/site-packages/sklearn/linear_model/logistic.py:432: FutureWarning: Default solver will be changed to 'lbfgs' in 0.22. Specify a solver to silence this warning.\n",
      "  FutureWarning)\n"
     ]
    },
    {
     "data": {
      "text/plain": [
       "LogisticRegression(C=1.0, class_weight=None, dual=False, fit_intercept=True,\n",
       "                   intercept_scaling=1, l1_ratio=None, max_iter=100,\n",
       "                   multi_class='warn', n_jobs=None, penalty='l2',\n",
       "                   random_state=None, solver='warn', tol=0.0001, verbose=0,\n",
       "                   warm_start=False)"
      ]
     },
     "execution_count": 102,
     "metadata": {},
     "output_type": "execute_result"
    }
   ],
   "source": [
    "model = LogisticRegression()\n",
    "model.fit(X_train, Y_train)"
   ]
  },
  {
   "cell_type": "code",
   "execution_count": 103,
   "metadata": {},
   "outputs": [
    {
     "name": "stdout",
     "output_type": "stream",
     "text": [
      "0.7073552425665102\n",
      "[[1971  460]\n",
      " [ 849 1582]]\n"
     ]
    },
    {
     "data": {
      "image/png": "[encoded data removed]",
      "text/plain": [
       "<Figure size 288x288 with 2 Axes>"
      ]
     },
     "metadata": {
      "needs_background": "light"
     },
     "output_type": "display_data"
    }
   ],
   "source": [
    "y_pred = model.predict(X_train)\n",
    "print(f1_score(Y_train, y_pred))\n",
    "cm = confusion_matrix(Y_train, y_pred)\n",
    "print(cm)\n",
    "plt.matshow(cm)\n",
    "plt.title('Confusion matrix')\n",
    "plt.colorbar()\n",
    "plt.ylabel('True label')\n",
    "plt.xlabel('Predicted label')\n",
    "plt.show()"
   ]
  },
  {
   "cell_type": "code",
   "execution_count": 105,
   "metadata": {},
   "outputs": [],
   "source": [
    "X_test = np.nan_to_num(X_test)"
   ]
  },
  {
   "cell_type": "code",
   "execution_count": 106,
   "metadata": {},
   "outputs": [
    {
     "name": "stdout",
     "output_type": "stream",
     "text": [
      "0.2173913043478261\n",
      "[[222  62]\n",
      " [ 10  10]]\n"
     ]
    },
    {
     "data": {
      "image/png": "[encoded data removed]",
      "text/plain": [
       "<Figure size 288x288 with 2 Axes>"
      ]
     },
     "metadata": {
      "needs_background": "light"
     },
     "output_type": "display_data"
    }
   ],
   "source": [
    "Y_pred = model.predict(X_test)\n",
    "print(f1_score(Y_test, Y_pred))\n",
    "cm = confusion_matrix(Y_test, Y_pred)\n",
    "print(cm)\n",
    "plt.matshow(cm)\n",
    "plt.title('Confusion matrix')\n",
    "plt.colorbar()\n",
    "plt.ylabel('True label')\n",
    "plt.xlabel('Predicted label')\n",
    "plt.show()"
   ]
  },
  {
   "cell_type": "code",
   "execution_count": null,
   "metadata": {},
   "outputs": [],
   "source": []
  }
 ],
 "metadata": {
  "kernelspec": {
   "display_name": "Python 3",
   "language": "python",
   "name": "python3"
  },
  "language_info": {
   "codemirror_mode": {
    "name": "ipython",
    "version": 3
   },
   "file_extension": ".py",
   "mimetype": "text/x-python",
   "name": "python",
   "nbconvert_exporter": "python",
   "pygments_lexer": "ipython3",
   "version": "3.6.9"
  }
 },
 "nbformat": 4,
 "nbformat_minor": 4
}
