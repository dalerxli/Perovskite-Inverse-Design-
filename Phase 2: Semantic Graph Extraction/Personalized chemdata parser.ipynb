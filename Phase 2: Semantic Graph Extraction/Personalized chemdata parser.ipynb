{
 "cells": [
  {
   "cell_type": "code",
   "execution_count": 11,
   "metadata": {},
   "outputs": [],
   "source": [
    "from chemdataextractor import Document\n",
    "from chemdataextractor.model import Compound\n",
    "from chemdataextractor.doc import Paragraph, Heading"
   ]
  },
  {
   "cell_type": "code",
   "execution_count": 12,
   "metadata": {},
   "outputs": [],
   "source": [
    "d = Document(Heading(u'CH3NH3I was synthesized using the method described by Michael M. Lee, et al.'), \n",
    "             Paragraph(u'A concentrated aqueous solution of hydroiodic acid (HI) (15.0 ml, 57 wt% in water, Alfa Aesar) was reacted with methylamine (CH3NH2) (13.5 ml, 40 wt% in aqueous solution, Alfa Aesar) at 0 C for 2 h with constant stirring under a nitrogen atmosphere. Methylammonium iodide was crystallized through removing the solvent by a rotary evaporator. The generated white powder was washed with diethyl ether (Alfa Aesar) three times and dried under vacuum overnight.'))"
   ]
  },
  {
   "cell_type": "code",
   "execution_count": 13,
   "metadata": {},
   "outputs": [
    {
     "data": {
      "text/html": [
       "<div class=\"cde-document\">\n",
       "<h2 class=\"cde-title\">CH3NH3I was synthesized using the method described by Michael M. Lee, et al.</h2>\n",
       "<p class=\"cde-paragraph\">A concentrated aqueous solution of hydroiodic acid (HI) (15.0 ml, 57 wt% in water, Alfa Aesar) was reacted with methylamine (CH3NH2) (13.5 ml, 40 wt% in aqueous solution, Alfa Aesar) at 0 C for 2 h with constant stirring under a nitrogen atmosphere. Methylammonium iodide was crystallized through removing the solvent by a rotary evaporator. The generated white powder was washed with diethyl ether (Alfa Aesar) three times and dried under vacuum overnight.</p>\n",
       "</div>"
      ],
      "text/plain": [
       "<Document: 2 elements>"
      ]
     },
     "execution_count": 13,
     "metadata": {},
     "output_type": "execute_result"
    }
   ],
   "source": [
    "d"
   ]
  },
  {
   "cell_type": "code",
   "execution_count": 14,
   "metadata": {},
   "outputs": [
    {
     "data": {
      "text/plain": [
       "[{'names': ['CH3NH3I']}]"
      ]
     },
     "execution_count": 14,
     "metadata": {},
     "output_type": "execute_result"
    }
   ],
   "source": [
    "d.records.serialize()"
   ]
  },
  {
   "cell_type": "code",
   "execution_count": 15,
   "metadata": {},
   "outputs": [],
   "source": [
    "# Handling boiling properties\n",
    "\n",
    "from chemdataextractor.model import BaseModel, StringType, ListType, ModelType\n",
    "\n",
    "class BoilingPoint(BaseModel):\n",
    "    value = StringType()\n",
    "    units = StringType()\n",
    "    \n",
    "Compound.boiling_points = ListType(ModelType(BoilingPoint))"
   ]
  },
  {
   "cell_type": "code",
   "execution_count": 30,
   "metadata": {},
   "outputs": [
    {
     "name": "stdout",
     "output_type": "stream",
     "text": [
      "<class 'chemdataextractor.parse.elements.IWord'>\n",
      "<class 'chemdataextractor.parse.elements.Regex'>\n",
      "<class 'chemdataextractor.parse.elements.Regex'>\n",
      "<class 'chemdataextractor.parse.elements.And'>\n"
     ]
    }
   ],
   "source": [
    "# Writing new parser\n",
    "import re\n",
    "from chemdataextractor.parse import R, I, W, Optional, merge\n",
    "\n",
    "prefix = I(u'at\\s')\n",
    "print(type(prefix))\n",
    "units = R(u'^[CFK]\\.?$')(u'units')\n",
    "print(type(units))\n",
    "value = R(u'^\\d+(\\.\\d+)?$')(u'value')\n",
    "print(type(value))\n",
    "bp = (prefix + value + units)(u'bp')\n",
    "print(type(bp))\n"
   ]
  },
  {
   "cell_type": "code",
   "execution_count": 31,
   "metadata": {},
   "outputs": [],
   "source": [
    "from chemdataextractor.parse.base import BaseParser\n",
    "from chemdataextractor.utils import first\n",
    "\n",
    "class BpParser(BaseParser):\n",
    "    root = bp\n",
    "\n",
    "    def interpret(self, result, start, end):\n",
    "        compound = Compound(\n",
    "            boiling_points=[\n",
    "                BoilingPoint(\n",
    "                    value=first(result.xpath('./value/text()')),\n",
    "                    units=first(result.xpath('./units/text()'))\n",
    "                )\n",
    "            ]\n",
    "        )\n",
    "        yield compound\n"
   ]
  },
  {
   "cell_type": "code",
   "execution_count": 32,
   "metadata": {},
   "outputs": [],
   "source": [
    "Paragraph.parsers = [BpParser()]"
   ]
  },
  {
   "cell_type": "code",
   "execution_count": 33,
   "metadata": {},
   "outputs": [
    {
     "data": {
      "text/plain": [
       "[{'names': ['CH3NH3I']}]"
      ]
     },
     "execution_count": 33,
     "metadata": {},
     "output_type": "execute_result"
    }
   ],
   "source": [
    "d.records.serialize()"
   ]
  },
  {
   "cell_type": "code",
   "execution_count": null,
   "metadata": {},
   "outputs": [],
   "source": []
  }
 ],
 "metadata": {
  "kernelspec": {
   "display_name": "Python 3",
   "language": "python",
   "name": "python3"
  },
  "language_info": {
   "codemirror_mode": {
    "name": "ipython",
    "version": 3
   },
   "file_extension": ".py",
   "mimetype": "text/x-python",
   "name": "python",
   "nbconvert_exporter": "python",
   "pygments_lexer": "ipython3",
   "version": "3.6.9"
  }
 },
 "nbformat": 4,
 "nbformat_minor": 4
}
